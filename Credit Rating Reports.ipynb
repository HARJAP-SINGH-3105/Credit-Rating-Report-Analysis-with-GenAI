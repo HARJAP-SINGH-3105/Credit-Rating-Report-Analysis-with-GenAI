{
 "cells": [
  {
   "cell_type": "code",
   "execution_count": null,
   "id": "9b5bfed2-d3e1-425b-baa1-4c6f94b5de5e",
   "metadata": {},
   "outputs": [],
   "source": [
    "## Net worth\n",
    "## About company\n",
    "# Rating\n",
    "## Financial Table"
   ]
  },
  {
   "cell_type": "markdown",
   "id": "d6c0ca0d-3556-4ea9-899f-2cd1e967bef7",
   "metadata": {
    "jp-MarkdownHeadingCollapsed": true
   },
   "source": [
    "### Work Flow\n",
    "<ul> <li> Extract latest file from Google and download in local system </li> \n",
    "<li> Then extract Relevant information from pdf </li>\n",
    "</ul>"
   ]
  },
  {
   "cell_type": "code",
   "execution_count": 2,
   "id": "607cb6cd-5c43-4feb-83d0-3ed25aacecee",
   "metadata": {},
   "outputs": [],
   "source": [
    "import getpass\n",
    "import json\n",
    "from openai import OpenAI\n",
    "import warnings\n",
    "warnings.filterwarnings('ignore')\n",
    "import pdfkit\n",
    "import requests\n",
    "from serpapi import GoogleSearch\n",
    "import re\n",
    "import os\n",
    "import pdfplumber\n",
    "import pandas as pd\n",
    "from pypdf import PdfReader\n",
    "import tiktoken\n",
    "from IPython.display import display\n",
    "# !pip install pdfkit --quiet"
   ]
  },
  {
   "cell_type": "code",
   "execution_count": 3,
   "id": "86f5972c-080e-4af2-96cc-b2f05efcf05a",
   "metadata": {},
   "outputs": [
    {
     "name": "stdin",
     "output_type": "stream",
     "text": [
      "Enter SERP API Key ········\n",
      "Enter OpenAI API Key ········\n"
     ]
    }
   ],
   "source": [
    "import getpass\n",
    "os.environ['SERP_API_KEY'] = getpass.getpass('Enter SERP API Key')\n",
    "os.environ['OPENAI_API_KEY'] = getpass.getpass('Enter OpenAI API Key')"
   ]
  },
  {
   "cell_type": "code",
   "execution_count": 23,
   "id": "832496b7-d7ac-4b36-bd96-b7934503c87d",
   "metadata": {},
   "outputs": [],
   "source": [
    "client = OpenAI()"
   ]
  },
  {
   "cell_type": "markdown",
   "id": "0e68f112-5c47-441e-b001-52dbfdf8e8b3",
   "metadata": {
    "jp-MarkdownHeadingCollapsed": true
   },
   "source": [
    "### Using Google SERPAPI - In Use"
   ]
  },
  {
   "cell_type": "code",
   "execution_count": 5,
   "id": "c06fe070-b8ee-4292-a2f9-610eaf38fcf6",
   "metadata": {},
   "outputs": [],
   "source": [
    "def fetch_latest_credit_rating(company_name, api_key):\n",
    "    # Search query setup for SERPAPI\n",
    "    params = {\n",
    "        \"api_key\": api_key,\n",
    "        \"engine\": \"google\",\n",
    "        \"q\": f\"{company_name} credit rating reporting latest\",\n",
    "        \"num\": 10\n",
    "    }\n",
    "\n",
    "    try:\n",
    "        # Initialize GoogleSearch with parameters\n",
    "        search = GoogleSearch(params)\n",
    "        results = search.get_dict()\n",
    "        # Check if 'organic_results' key is present in the response\n",
    "        if \"organic_results\" not in results:\n",
    "            print(\"No results found\")\n",
    "            return None\n",
    "\n",
    "        # Process the top 10 organic results\n",
    "        extracted_data = []\n",
    "        for result in results[\"organic_results\"]:\n",
    "            title = result.get(\"title\", \"Title not found\")\n",
    "            snippet = result.get(\"snippet\", \"Snippet not found\")\n",
    "            date = result.get('date',\"DATE not found\")\n",
    "            url = result.get(\"link\", \"URL not found\")\n",
    "\n",
    "            \n",
    "            # Append the processed result\n",
    "            extracted_data.append({\n",
    "                \"Title\": title,\n",
    "                \"Snippet\": snippet,\n",
    "                \"Date\": date,\n",
    "                \"URL\": url\n",
    "            })\n",
    "        \n",
    "        return extracted_data\n",
    "\n",
    "    except Exception as e:\n",
    "        print(f\"An error occurred: {e}\")\n",
    "        return None\n"
   ]
  },
  {
   "cell_type": "markdown",
   "id": "a0c08923-2447-406d-8eb2-5dc658d43423",
   "metadata": {
    "jp-MarkdownHeadingCollapsed": true
   },
   "source": [
    "### GPT Check"
   ]
  },
  {
   "cell_type": "code",
   "execution_count": 6,
   "id": "06d84a76-64eb-4fc4-aa92-583202a352cb",
   "metadata": {},
   "outputs": [],
   "source": [
    "def get_gpt_reply(company_name,data, model =\"gpt-4o-mini\"):\n",
    "# Define the function schema for date and URL extraction\n",
    "    function_schema = {\n",
    "        \"name\": \"get_date_and_url\",\n",
    "        \"description\": \"Function to retrieve URL containing link to latest report and to get date of latest report\",\n",
    "        \"parameters\": {\n",
    "            \"type\": \"object\",\n",
    "            \"properties\": {\n",
    "                \"date\": {\n",
    "                    \"type\": \"string\",\n",
    "                    \"description\": \"The latest date on which credit report is published\"\n",
    "                },\n",
    "                \"url\": {\n",
    "                    \"type\": \"string\",\n",
    "                    \"description\": \"The URL to the latest credit rating report containing either \\\"PDF\\\" keyword or \\\".html\\\" keyword.\"\n",
    "                }\n",
    "            },\n",
    "            \"required\": [\"date\", \"url\"]\n",
    "        }\n",
    "    }\n",
    "    system_prompt = '''\n",
    "         You are a financial assistant. You will be provided list of json objects containing titles, snippets, date and urls. \n",
    "         In given json objects, you will look for url which can give me latest credit report of a company. \n",
    "         **Along with being latest, make sure that url (which is basically in string format) must either contain \"PDF\" keyword or \".html\" keyword.**\n",
    "         \n",
    "         Also return me the **date** corresponding to the above url.\n",
    "         '''\n",
    "    \n",
    "    prompt = f'''\n",
    "        Provide me the url which can led to the latest credit rating report.\n",
    "        Desired url must contain keywords like 'PDF' in them or ends with '.html' or ends with '.pdf'\n",
    "        \n",
    "        The company name is {company_name} and list of json objects is :\n",
    "        \n",
    "        {data}\n",
    "        '''\n",
    "    # Create the API call using the OpenAI() class\n",
    "    response = client.chat.completions.create(\n",
    "        model=model,  # Replace with your chosen model\n",
    "        messages=[\n",
    "            {\"role\":\"system\", \"content\": system_prompt,\n",
    "             \"role\": \"user\", \"content\": prompt\n",
    "             }\n",
    "        ],\n",
    "        functions=[function_schema],\n",
    "        function_call={\"name\": \"get_date_and_url\"}\n",
    "    )\n",
    "    \n",
    "    # Display the response with date and URL\n",
    "    return json.loads(response.choices[0].message.function_call.arguments)\n"
   ]
  },
  {
   "cell_type": "markdown",
   "id": "39319a42-4cef-4092-afeb-7d0b073a4b58",
   "metadata": {
    "jp-MarkdownHeadingCollapsed": true
   },
   "source": [
    "### PDF Download"
   ]
  },
  {
   "cell_type": "code",
   "execution_count": 7,
   "id": "7904f6be-20fb-4a6c-8e49-5b4785b8dbd1",
   "metadata": {},
   "outputs": [],
   "source": [
    "def download_pdf(url,company_name):\n",
    "    filename =f'{company_name}_CR.pdf'\n",
    "    if '.html' in url:\n",
    "        try:\n",
    "            pdfkit.from_url(url,filename)\n",
    "            \n",
    "            return f\"PDF downloaded successfully and saved as '{filename}'\"\n",
    "        except:\n",
    "            return f\"Failed to download PDF.\"\n",
    "            \n",
    "    else:\n",
    "        response = requests.get(url,verify =False)\n",
    "        if response.status_code == 200:\n",
    "            with open(filename, \"wb\") as file:\n",
    "                file.write(response.content)\n",
    "            return f\"PDF downloaded successfully and saved as '{filename}'\"\n",
    "        else:\n",
    "            return f\"Failed to download PDF. Status code: {response.status_code}\"\n",
    "    \n"
   ]
  },
  {
   "cell_type": "markdown",
   "id": "d94a7f91-db5b-4714-a85a-114b23d9bd5d",
   "metadata": {
    "jp-MarkdownHeadingCollapsed": true
   },
   "source": [
    "### Check Here..."
   ]
  },
  {
   "cell_type": "code",
   "execution_count": 97,
   "id": "78784b8e-79a7-4b4b-b0ae-3de8ef4d414e",
   "metadata": {},
   "outputs": [
    {
     "name": "stdin",
     "output_type": "stream",
     "text": [
      "Enter Company Name:  muthoot finance\n"
     ]
    },
    {
     "name": "stdout",
     "output_type": "stream",
     "text": [
      "Information is Fetched from Google Successfully\n",
      "Response is taken from GPT Successfully\n",
      "{'date': 'Jul 5, 2024', 'url': 'https://www.crisil.com/mnt/winshare/Ratings/RatingList/RatingDocs/MuthootFinanceLimited_July%2005_%202024_RR_347111.html'}\n",
      "PDF downloaded successfully and saved as 'muthoot finance_CR.pdf'\n"
     ]
    }
   ],
   "source": [
    "company_name = input(\"Enter Company Name: \")\n",
    "data= fetch_latest_credit_rating(company_name, api_key)\n",
    "print(\"Information is Fetched from Google Successfully\")\n",
    "reply = get_gpt_reply(company_name,data)\n",
    "print(\"Response is taken from GPT Successfully\")\n",
    "print(reply)\n",
    "url = reply['url']\n",
    "download_pdf(url)"
   ]
  },
  {
   "cell_type": "code",
   "execution_count": null,
   "id": "5dfb26fd-f765-46e5-b81f-db879b08787f",
   "metadata": {},
   "outputs": [],
   "source": [
    "# Display results\n",
    "if data:\n",
    "    for result in data:\n",
    "        print(\"Title:\", result[\"Title\"])\n",
    "        print(\"Snippet:\", result[\"Snippet\"])\n",
    "        print(\"Date:\", result[\"Date\"])\n",
    "        print(\"URL:\", result[\"URL\"])\n",
    "        print(\"-----\")\n"
   ]
  },
  {
   "cell_type": "code",
   "execution_count": null,
   "id": "65dea77d-0431-4425-8b42-a06e688a1b57",
   "metadata": {},
   "outputs": [],
   "source": [
    "# https://www.icra.in/Rating/GetRationalReportFilePdf?id=126634"
   ]
  },
  {
   "cell_type": "markdown",
   "id": "859b5439-4eb8-4bc1-a1a0-1796587f4380",
   "metadata": {},
   "source": [
    "## Part 2"
   ]
  },
  {
   "cell_type": "markdown",
   "id": "6706902b-8fad-4d2e-8e4a-d338af27ac6c",
   "metadata": {
    "jp-MarkdownHeadingCollapsed": true
   },
   "source": [
    "###  PDF to Excel of Tables"
   ]
  },
  {
   "cell_type": "code",
   "execution_count": 16,
   "id": "e57560f3-9959-4d19-a760-9b214cca93e1",
   "metadata": {},
   "outputs": [],
   "source": [
    "def make_tables(pdf_file):\n",
    "\n",
    "    output_file = f\"{company_name}_tables.xlsx\"\n",
    "    # Open the PDF\n",
    "    try:\n",
    "        with pdfplumber.open(pdf_file) as pdf:\n",
    "            all_tables = []\n",
    "            text =\"\"\n",
    "            for page in pdf.pages:\n",
    "                tables = page.extract_tables()\n",
    "                table_bboxes = [table.bbox for table in page.find_tables()]\n",
    "                if table_bboxes:\n",
    "                    filtered_text = page.filter(lambda obj: all(not (table_bbox[0] <= obj['x0'] <= table_bbox[2] and\n",
    "                                                                table_bbox[1] <= obj['top'] <= table_bbox[3])\n",
    "                                                            for table_bbox in table_bboxes))\n",
    "                    text += filtered_text.extract_text()\n",
    "                \n",
    "                \n",
    "                for table in tables:\n",
    "                    df = pd.DataFrame(table)\n",
    "                    all_tables.append(df)\n",
    "        \n",
    "        # Save all extracted tables to Excel\n",
    "        # with pd.ExcelWriter(output_file) as writer:\n",
    "        #     for i, table in enumerate(all_tables):\n",
    "        #         table.to_excel(writer, sheet_name=f\"Table_{i+1}\", index=False)\n",
    "    \n",
    "        print(f\"Tables saved to {output_file}\")\n",
    "        return all_tables,text\n",
    "    except Exception as e:\n",
    "        print(f\"Failed to create tables as an error occured: {e}\")\n",
    "        return [],[]\n"
   ]
  },
  {
   "cell_type": "code",
   "execution_count": 57,
   "id": "a48f3f36-4cd9-410e-80bd-3c23c32b56e1",
   "metadata": {},
   "outputs": [],
   "source": [
    "def find_finance_table(pdf_path):\n",
    "\n",
    "    # List to store DataFrames of tables containing 'PAT'\n",
    "    dfs_with_pat = []\n",
    "    \n",
    "    with pdfplumber.open(pdf_path) as pdf:\n",
    "        for page_num, page in enumerate(pdf.pages, start=1):\n",
    "            # Extract tables from the current page\n",
    "            tables = page.extract_tables()\n",
    "            \n",
    "            for table_idx, table in enumerate(tables, start=1):\n",
    "                # Check if any row in the table contains the keyword 'PAT'\n",
    "                if any(\"PAT\" in cell for row in table for cell in row if cell):  # Avoid NoneType errors\n",
    "                    # Convert the table into a DataFrame\n",
    "                    df = pd.DataFrame(table)\n",
    "                    dfs_with_pat.append({\n",
    "                        \"page\": page_num,\n",
    "                        \"table_index\": table_idx,\n",
    "                        \"dataframe\": df\n",
    "                    })\n",
    "    \n",
    "    # Output the DataFrames\n",
    "    return dfs_with_pat\n"
   ]
  },
  {
   "cell_type": "code",
   "execution_count": 58,
   "id": "e36ab05e-ebbe-4cb6-b0e6-700ff5212f3e",
   "metadata": {},
   "outputs": [],
   "source": [
    "pdf =\"OXYZON finance_CR.pdf\"\n",
    "just = find_finance_table(pdf)"
   ]
  },
  {
   "cell_type": "code",
   "execution_count": 62,
   "id": "7866bb13-361c-483f-9dd1-64a46581596e",
   "metadata": {},
   "outputs": [
    {
     "name": "stdout",
     "output_type": "stream",
     "text": [
      "Filtered tables saved to tables_with_pat.xlsx\n"
     ]
    }
   ],
   "source": [
    "output_excel = \"tables_with_pat.xlsx\"\n",
    "with pd.ExcelWriter(output_excel, engine=\"xlsxwriter\") as writer:\n",
    "    for idx, table_info in enumerate(just, start=1):\n",
    "        sheet_name = f\"Page{table_info['page']}_Table{table_info['table_index']}\"\n",
    "        table_info['dataframe'].to_excel(writer, index=False, header=False, sheet_name=sheet_name)\n",
    "\n",
    "print(f\"Filtered tables saved to {output_excel}\")"
   ]
  },
  {
   "cell_type": "code",
   "execution_count": 60,
   "id": "74b5de34-4b8c-4097-9858-a16ef7bdc3a2",
   "metadata": {},
   "outputs": [
    {
     "name": "stdout",
     "output_type": "stream",
     "text": [
      "Page: 4, Table Index: 1\n",
      "   0                         1  2        3       4     5        6       7   \\\n",
      "0            Oxyzo (standalone)              FY2021                 FY2022   \n",
      "1                                   Audited    None  None  Audited    None   \n",
      "2                           PAT        39.9    None  None     69.3    None   \n",
      "3                     Net worth       449.6    None  None  1,392.3    None   \n",
      "4                           AUM     1,389.4    None  None  2,591.7    None   \n",
      "5                  Total assets     1,643.0    None  None  3,439.2    None   \n",
      "6      Return on average assets        3.1%    None  None     2.7%    None   \n",
      "7      Return on average equity       10.4%    None  None     7.5%    None   \n",
      "8               Gearing (times)         2.6    None  None      1.4    None   \n",
      "9                          CRAR       32.3%    None  None    48.4%    None   \n",
      "10                Gross stage 3        1.2%    None  None     1.0%    None   \n",
      "11                  Net stage 3        0.5%    None  None     0.4%    None   \n",
      "12        Net stage 3/Net worth        1.5%    None  None     0.8%    None   \n",
      "\n",
      "      8        9       10    11    12         13    14  \n",
      "0                  FY2023              H1 FY2024        \n",
      "1   None  Audited    None  None  None       None  None  \n",
      "2   None    196.5    None  None  None       None  None  \n",
      "3   None  2,295.0    None  None  None       None  None  \n",
      "4   None  4,688.5    None  None  None       None  None  \n",
      "5   None  5,577.6    None  None  None       None  None  \n",
      "6   None     4.4%    None  None  None       None  None  \n",
      "7   None    10.7%    None  None  None       None  None  \n",
      "8   None      1.4    None  None  None       None  None  \n",
      "9   None    42.7%    None  None  None       None  None  \n",
      "10  None     0.9%    None  None  None       None  None  \n",
      "11  None     0.5%    None  None  None       None  None  \n",
      "12  None     0.8%    None  None  None       None  None  \n",
      "\n",
      "\n",
      "Page: 4, Table Index: 2\n",
      "  0                                    1  2        3       4     5        6   \\\n",
      "0                      OFB (consolidated)              FY2020                  \n",
      "1                                             Audited    None  None  Audited   \n",
      "2                                     PAT        32.3    None  None     55.7   \n",
      "3     Net worth (excl. minority interest)       620.1    None  None    881.7   \n",
      "4                             Investments        16.0    None  None    183.8   \n",
      "5                               Loan book       912.0    None  None  1,356.5   \n",
      "6                            Total assets     1,442.8    None  None  2,398.2   \n",
      "7                Return on average equity        7.2%    None  None     7.4%   \n",
      "8                         Gearing (times)         1.3    None  None      1.6   \n",
      "\n",
      "       7     8        9       10    11    12      13    14  \n",
      "0  FY2021                 FY2022              FY2023        \n",
      "1    None  None  Audited    None  None  None    None  None  \n",
      "2    None  None    201.1    None  None  None    None  None  \n",
      "3    None  None  6,278.0    None  None  None    None  None  \n",
      "4    None  None  3,270.7    None  None  None    None  None  \n",
      "5    None  None  2,535.8    None  None  None    None  None  \n",
      "6    None  None  9,614.9    None  None  None    None  None  \n",
      "7    None  None     5.4%    None  None  None    None  None  \n",
      "8    None  None      0.4    None  None  None    None  None  \n",
      "\n",
      "\n"
     ]
    }
   ],
   "source": [
    "for table_info in just:\n",
    "    print(f\"Page: {table_info['page']}, Table Index: {table_info['table_index']}\")\n",
    "    print(table_info['dataframe'])\n",
    "    print(\"\\n\")"
   ]
  },
  {
   "cell_type": "markdown",
   "id": "230c1b04-6c66-4d87-b669-e30f207b3cf5",
   "metadata": {
    "jp-MarkdownHeadingCollapsed": true
   },
   "source": [
    "### Exctracting Text and Counting tokens"
   ]
  },
  {
   "cell_type": "code",
   "execution_count": 8,
   "id": "0de19623-f64b-40ec-bc8f-f39ad76b600b",
   "metadata": {},
   "outputs": [],
   "source": [
    "def extract_text_with_pdfreader(pdf_file):\n",
    "\n",
    "    try:\n",
    "         reader = PdfReader(pdf_file)\n",
    "         all_text=[]\n",
    "         for i,page in enumerate(reader.pages):\n",
    "           text = page.extract_text()\n",
    "           if text:  # Append only if text is found\n",
    "                all_text.append(f\"Page number is: {i+1}\\n,{text}\")\n",
    "           else:\n",
    "               all_text.append(f\"Page number is: {i+1}\")\n",
    "        \n",
    "        # Combine text from all pages\n",
    "         return 1,\"\\n\".join(all_text)\n",
    "\n",
    "    except Exception as e:\n",
    "        print(\"An error occured in extracting text\")\n",
    "        return 0, f\"An error occurred: {e}\"\n",
    "\n",
    "# Usage example\n",
    "\n",
    "def extract_text_with_pdfplumber(pdf_file):\n",
    "\n",
    "    try:\n",
    "        all_text = []\n",
    "\n",
    "        # Open the PDF file\n",
    "        with pdfplumber.open(pdf_file) as pdf:\n",
    "            # Iterate through each page\n",
    "            for i,page in enumerate(pdf.pages):\n",
    "                # Extract text from the page\n",
    "                text = page.extract_text()\n",
    "                if text:  # Append only if text is found\n",
    "                    all_text.append(f\"Page number is: {i+1}\\n{text}\")\n",
    "                else:\n",
    "                    all_text.append(f\"Page number is: {i+1}\\n\")\n",
    "                    \n",
    "        \n",
    "        # Combine text from all pages\n",
    "        return 1,\"\\n\".join(all_text)\n",
    "\n",
    "    except Exception as e:\n",
    "        return 0, f\"An error occurred: {e}\"\n",
    "\n",
    "def calculate_tokens(text, model=\"gpt-4o-mini\"):\n",
    "\n",
    "    try:\n",
    "        # Load the tokenizer for the specified model\n",
    "        tokenizer = tiktoken.encoding_for_model(model)\n",
    "        tokens = tokenizer.encode(text)\n",
    "        return len(tokens)\n",
    "    \n",
    "    except Exception as e:\n",
    "        return f\"An error occurred: {e}\"\n"
   ]
  },
  {
   "cell_type": "markdown",
   "id": "eab61413-4adb-4eaf-bc42-d3a9c4f71556",
   "metadata": {
    "jp-MarkdownHeadingCollapsed": true
   },
   "source": [
    "### GPT extraction from CR"
   ]
  },
  {
   "cell_type": "code",
   "execution_count": 9,
   "id": "51a9b232-0255-4699-b700-7c7911f0fe1f",
   "metadata": {},
   "outputs": [],
   "source": [
    "# Function to extract information from the credit report\n",
    "def gpt_final_info(report_text,model=\"gpt-4o-mini\"):\n",
    "    \n",
    "    function_schema = {\n",
    "    \"name\": \"extract_credit_report_info\",\n",
    "    \"description\": \"Extract credit ratings, net worth, and company information from a credit rating report.\",\n",
    "    \"parameters\": {\n",
    "        \"type\": \"object\",\n",
    "        \"properties\": {\n",
    "            \"credit_ratings\": {\n",
    "                \"type\": \"array\",\n",
    "                \"items\": {\n",
    "                    \"type\": \"object\",\n",
    "                    \"properties\": {\n",
    "                        \"instrument\": {\"type\": \"string\", \"description\": \"Name of the financial instrument\"},\n",
    "                        \"rating\": {\"type\": \"string\", \"description\": \"The credit rating assigned\"},\n",
    "                        \"page_numbers\": {\n",
    "                            \"type\": \"array\",\n",
    "                            \"items\": {\"type\": \"integer\"},\n",
    "                            \"description\": \"Page numbers where this data is found\"\n",
    "                        }\n",
    "                    },\n",
    "                },\n",
    "                \"description\": \"List of credit ratings for different financial instruments.\"\n",
    "            },\n",
    "            \"net_worth\": {\n",
    "                \"type\": \"object\",\n",
    "                \"properties\": {\n",
    "                    \"company_net_worth\": {\"type\": \"string\", \"description\": \"Net worth of the company\"},\n",
    "                    \"page_numbers\": {\n",
    "                        \"type\": \"array\",\n",
    "                        \"items\": {\"type\": \"integer\"},\n",
    "                        \"description\": \"Page numbers where net worth information is found\"\n",
    "                    }\n",
    "                },\n",
    "                \"description\": \"Net worth of the company and its page numbers.\"\n",
    "            },\n",
    "            \"company_info\": {\n",
    "                \"type\": \"object\",\n",
    "                \"properties\": {\n",
    "                    \"about_company\": {\"type\": \"string\", \"description\": \"General information about the company\"},\n",
    "                    \"page_numbers\": {\n",
    "                        \"type\": \"array\",\n",
    "                        \"items\": {\"type\": \"integer\"},\n",
    "                        \"description\": \"Page numbers where company information is found\"\n",
    "                    }\n",
    "                },\n",
    "                \"description\": \"General information about the company and its page numbers.\"\n",
    "            }\n",
    "        },\n",
    "        \"required\": [\"credit_ratings\", \"net_worth\", \"company_info\"]\n",
    "    }\n",
    "    }\n",
    "\n",
    "    response = client.chat.completions.create(\n",
    "        model=model,\n",
    "        messages=[\n",
    "            {\n",
    "                \"role\": \"system\",\n",
    "                \"content\": ''' You are a credit rating report analysis assistant. You will be provided with text. You have to return:\n",
    "                         1.) Credit Ratings of different financial instruments along with the name of financial instruments\n",
    "                         2.) Net worth of company: Net worth of a company refers to the value that remains after subtracting total liabilities from total assets. The net worth is also known as shareholders' equity, book value, or net assets. A positive net worth indicates that a company's assets exceed its liabilities, suggesting financial stability and the ability to cover obligations.\n",
    "                         3.) About the company: General information about company like what it to do and what is its business\n",
    "\n",
    "                         Along with above data, you also have to return the page number where you get the above data.\n",
    "                         Actually, page number is mentioned at the starting of each section in the text, from there you can get page number.\n",
    "\n",
    "                         In case, if you are not able to get any of above information just return 'None' in that case\n",
    "                ''' \n",
    "            },\n",
    "            {\n",
    "                \"role\": \"user\",\n",
    "                \"content\": f\"Extract the details from the provided credit rating report: \\n\\n{report_text}\"\n",
    "            }\n",
    "        ],\n",
    "        functions=[function_schema],\n",
    "        function_call={\"name\": \"extract_credit_report_info\"}\n",
    "    )\n",
    "    \n",
    "    # Extract and return the response data\n",
    "    extracted_data = response.choices[0].message.function_call.arguments\n",
    "    return json.loads(extracted_data)\n",
    "\n",
    "\n",
    "def create_dataframe(data):\n",
    "\n",
    "    try:\n",
    "    \n",
    "        credit_ratings_df = pd.DataFrame(data[\"credit_ratings\"])\n",
    "        credit_ratings_df[\"page_numbers\"] = credit_ratings_df[\"page_numbers\"].apply(lambda x: ', '.join(map(str, x)))\n",
    "        \n",
    "        net_worth_df = pd.DataFrame([data[\"net_worth\"]])\n",
    "        net_worth_df[\"page_numbers\"] = net_worth_df[\"page_numbers\"].apply(lambda x: ', '.join(map(str, x)))\n",
    "        \n",
    "        # Extract company information into a DataFrame\n",
    "        company_info_df = pd.DataFrame([data[\"company_info\"]])\n",
    "        company_info_df[\"page_numbers\"] = company_info_df[\"page_numbers\"].apply(lambda x: ', '.join(map(str, x)))\n",
    "        \n",
    "        credit_ratings_df.rename(columns={\"page_numbers\": \"Credit Rating Page No.\"}, inplace=True)\n",
    "        net_worth_df.rename(columns={\"page_numbers\": \"Net Worth Page No.\"}, inplace=True)\n",
    "        company_info_df.rename(columns={ \"page_numbers\": \"Company Info Page No.\"}, inplace=True)\n",
    "        \n",
    "        # Concatenate the DataFrames along axis=1\n",
    "        final_df = pd.concat([credit_ratings_df, net_worth_df, company_info_df], axis=1)\n",
    "    \n",
    "        return final_df\n",
    "    except Exception as e:\n",
    "        print(f\"Error occured in creating a final dataframe: {e}\")\n",
    "        return f\"Error occured in creating a final dataframe: {e}\""
   ]
  },
  {
   "cell_type": "markdown",
   "id": "e0a1256d-941b-47a4-b2ef-bb90832ff637",
   "metadata": {
    "jp-MarkdownHeadingCollapsed": true
   },
   "source": [
    "### Check here - II"
   ]
  },
  {
   "cell_type": "code",
   "execution_count": 24,
   "id": "3333a0c5-1a66-4dd7-90c5-3fdaf5225439",
   "metadata": {},
   "outputs": [],
   "source": [
    "def gpt_openai_everything(text,model= \"gpt-4o-mini\"):\n",
    "    system_prompt = '''\n",
    "    You are a credit rating report analysis assistant. You will be provided with text. You have to return:\n",
    "    1.) Credit Ratings of different financial instruments along with the name of financial instruments\n",
    "    2.) Net worth of company: Net worth of a company refers to the value that remains after subtracting total liabilities from total assets. The net worth is also known as shareholders' equity, book value, or net assets. \n",
    "    3.) About the company: General information about company like what it do and what is its business\n",
    "    4.) Profit After Tax (PAT) of company in most recent/latest year available in text and in year just previous to most recent year. Please provide year too in both cases.\n",
    "    5.) Operating income or  Total operating income of company in most recent/latest year available in text and in year just previous to most recent year. Please provide year too in both cases.\n",
    "    6.) AUM (asset under managemet) or Total AUM  in most recent/latest year available in text and in year just previous to most recent year. Please provide year too in both cases.\n",
    "    \n",
    "    \n",
    "    Along with above data, you also have to return the **page number** where you get the above data.\n",
    "    In case, if you are not able to get any of above information just return **None** in that case.\n",
    "\n",
    "                    \n",
    "    '''\n",
    "    user_prompt = f'''\n",
    "    Given is the credit rating report of a company.\n",
    "    I want you to extract following details for me:\n",
    "    1.) Credit Ratings of different financial instruments\n",
    "    2.) Net Worth\n",
    "    3.) Info about company\n",
    "    4.) PAT\n",
    "    5.) Operating income\n",
    "    6.) AUM\n",
    "    You must return each of the above detail from report. In case, if you are not able to find any of them, \n",
    "    then just return 'None' in the front of detail which will indicate that it is not found.\n",
    "    Following text is the credit rating report:\n",
    "    -----------------------------------------------------------------------------------\n",
    "    {text}\n",
    "    '''\n",
    "    \n",
    "    response = client.chat.completions.create(\n",
    "    model=model,\n",
    "    messages=[\n",
    "        { \"role\": \"system\", \"content\": system_prompt},\n",
    "       { \"role\": \"user\", \"content\": user_prompt} ],\n",
    "\n",
    "    functions=[tool_function],\n",
    "    function_call={\"name\": \"extract_credit_rating_info\"}\n",
    "    )\n",
    "    print(response)\n",
    "    # Extract and return the response data\n",
    "    extracted_data = response.choices[0].message.function_call.arguments\n",
    "    return json.loads(extracted_data)\n",
    " "
   ]
  },
  {
   "cell_type": "code",
   "execution_count": 17,
   "id": "1d394f9f-69aa-49ab-a8a1-5402e500d6f8",
   "metadata": {},
   "outputs": [
    {
     "name": "stdout",
     "output_type": "stream",
     "text": [
      "Tables saved to oxyzo Finance_tables.xlsx\n",
      "Token count for the input text: 6621\n"
     ]
    },
    {
     "data": {
      "text/plain": [
       "{}"
      ]
     },
     "metadata": {},
     "output_type": "display_data"
    }
   ],
   "source": [
    "# company_name = input(\"Enter Company Name: \")\n",
    "# data= fetch_latest_credit_rating(company_name, api_key)\n",
    "# print(\"Information is Fetched from Google Successfully\")\n",
    "# reply = get_gpt_reply(company_name,data)\n",
    "# print(\"Response is taken from GPT Successfully\")\n",
    "# print(reply)\n",
    "# url = reply['url']\n",
    "# status = download_pdf(url,company_name)\n",
    "# print(status)\n",
    "\n",
    "# filename = f\"{company_name}_CR.pdf\"  # Replace with your PDF file path\n",
    "# flag,extracted_text = extract_text_with_pdfplumber(filename)\n",
    "\n",
    "if (flag):\n",
    "    make_tables(filename)\n",
    "    token_count = calculate_tokens(extracted_text)\n",
    "    print(f\"Token count for the input text: {token_count}\")\n",
    "    if (token_count>15000):\n",
    "        print(\"Token Count hit the limit, so stopping the code\")\n",
    "    else:\n",
    "        extracted_info  = gpt_openai_everything(extracted_text)\n",
    "        # results =  create_dataframe(extracted_info)\n",
    "        display(extracted_info)"
   ]
  },
  {
   "cell_type": "code",
   "execution_count": 25,
   "id": "7d131b74-4a52-4c39-98f1-ccaa2ccd44ac",
   "metadata": {},
   "outputs": [
    {
     "name": "stdout",
     "output_type": "stream",
     "text": [
      "ChatCompletion(id='chatcmpl-AekhwfRnIyvMxHiXHDkc2EjDxbCEb', choices=[Choice(finish_reason='stop', index=0, logprobs=None, message=ChatCompletionMessage(content=None, refusal=None, role='assistant', audio=None, function_call=FunctionCall(arguments='{}', name='extract_credit_rating_info'), tool_calls=None))], created=1734276028, model='gpt-4o-mini-2024-07-18', object='chat.completion', service_tier=None, system_fingerprint='fp_6fc10e10eb', usage=CompletionUsage(completion_tokens=1, prompt_tokens=7088, total_tokens=7089, completion_tokens_details=CompletionTokensDetails(accepted_prediction_tokens=0, audio_tokens=0, reasoning_tokens=0, rejected_prediction_tokens=0), prompt_tokens_details=PromptTokensDetails(audio_tokens=0, cached_tokens=6912)))\n"
     ]
    }
   ],
   "source": [
    "extracted_info  = gpt_openai_everything(extracted_text)"
   ]
  },
  {
   "cell_type": "code",
   "execution_count": 21,
   "id": "1a7f876d-b45b-4620-9297-ac99a98eadcf",
   "metadata": {},
   "outputs": [],
   "source": [
    "extracted_info  = gpt_openai_everything(extracted_text)"
   ]
  },
  {
   "cell_type": "code",
   "execution_count": null,
   "id": "c21ffb82-a3ca-4408-9686-acf98253b31b",
   "metadata": {},
   "outputs": [],
   "source": [
    "if data:\n",
    "    for result in data:\n",
    "        print(\"Title:\", result[\"Title\"])\n",
    "        print(\"Snippet:\", result[\"Snippet\"])\n",
    "        print(\"Date:\", result[\"Date\"])\n",
    "        print(\"URL:\", result[\"URL\"])\n",
    "        print(\"-----\")\n"
   ]
  },
  {
   "cell_type": "code",
   "execution_count": 27,
   "id": "e7cf4e17-6feb-4c08-9b0f-ac726a7b5ce2",
   "metadata": {},
   "outputs": [
    {
     "data": {
      "text/plain": [
       "{'credit_ratings': [{'instrument': 'Long term – Fund based/CC',\n",
       "   'rating': '[ICRA]A+ (Stable)',\n",
       "   'page_numbers': [1]},\n",
       "  {'instrument': 'Long term – Fund-based TL',\n",
       "   'rating': '[ICRA]A+ (Stable)',\n",
       "   'page_numbers': [1]},\n",
       "  {'instrument': 'Long term – Unallocated',\n",
       "   'rating': '[ICRA]A+ (Stable)',\n",
       "   'page_numbers': [1]},\n",
       "  {'instrument': 'LT-Market linked debenture',\n",
       "   'rating': 'PP-MLD[ICRA]A+ (Stable)',\n",
       "   'page_numbers': [1]},\n",
       "  {'instrument': 'Commercial paper programme',\n",
       "   'rating': '[ICRA]A1+',\n",
       "   'page_numbers': [1]},\n",
       "  {'instrument': 'Non-convertible debenture',\n",
       "   'rating': '[ICRA]A+ (Stable)',\n",
       "   'page_numbers': [1]},\n",
       "  {'instrument': 'LT borrowing programme',\n",
       "   'rating': '[ICRA]A+ (Stable)',\n",
       "   'page_numbers': [1]},\n",
       "  {'instrument': 'Issuer rating',\n",
       "   'rating': '[ICRA]A+ (Stable)',\n",
       "   'page_numbers': [1]}],\n",
       " 'net_worth': {'company_net_worth': 'Rs. 2,433 crore', 'page_numbers': [2]},\n",
       " 'company_info': {'about_company': 'Oxyzo is a Gurgaon-based NBFC, which commenced lending operations in November 2017. It primarily provides secured and unsecured purchase finance loans to small and medium enterprises (SMEs) for financing the purchase of raw materials that are used in their core businesses.',\n",
       "  'page_numbers': [4]}}"
      ]
     },
     "execution_count": 27,
     "metadata": {},
     "output_type": "execute_result"
    }
   ],
   "source": [
    "extracted_info = gpt_final_info(extracted_text)\n",
    "extracted_info"
   ]
  },
  {
   "cell_type": "markdown",
   "id": "b701e8af-f904-4c71-bb2f-04578946d31b",
   "metadata": {
    "jp-MarkdownHeadingCollapsed": true
   },
   "source": [
    "## Claude's PDF Beta"
   ]
  },
  {
   "cell_type": "code",
   "execution_count": 50,
   "id": "75d14979-29a0-4ad2-ab27-423a393857cb",
   "metadata": {},
   "outputs": [],
   "source": [
    "import os\n",
    "import pandas as pd\n",
    "import anthropic\n",
    "import base64\n",
    "client_claude = anthropic.Anthropic()"
   ]
  },
  {
   "cell_type": "code",
   "execution_count": 4,
   "id": "ab79bc86-ffb1-472e-a978-52c31d22b93d",
   "metadata": {},
   "outputs": [
    {
     "name": "stdin",
     "output_type": "stream",
     "text": [
      "Enter Anthropic API key ········\n"
     ]
    }
   ],
   "source": [
    "os.environ['ANTHROPIC_API_KEY'] = getpass.getpass('Enter Anthropic API key')"
   ]
  },
  {
   "cell_type": "markdown",
   "id": "408c3403-4828-4031-a824-088f083e6b2a",
   "metadata": {},
   "source": [
    "### Things I need:\n",
    "<ul> \n",
    "    <li>\n",
    "        List of Financial instruments and their rating and page number you find from.\n",
    "    </li>\n",
    "    <li>\n",
    "       Company net worth and page number you find from.\n",
    "    </li>\n",
    "    <li>\n",
    "        About company and page number you from find from\n",
    "    </li>\n",
    "    <li> \n",
    "        Financial key metrics:\n",
    "        <li> \n",
    "            Proft after tax (PAT) \n",
    "        </li>\n",
    "        <li>\n",
    "            Total operating income / operating income\n",
    "        </li>\n",
    "         <li>\n",
    "             AUM\n",
    "         </li>\n",
    "         Following above along with page number and for both most recent and next recent years\n",
    "    \n",
    "   </li>\n",
    "</ul>"
   ]
  },
  {
   "cell_type": "code",
   "execution_count": 51,
   "id": "c1e0413c-f505-4d5a-80cd-34e220b36af5",
   "metadata": {},
   "outputs": [],
   "source": [
    "tool_function = {\n",
    "\n",
    "        \"name\": \"extract_credit_rating_info\",\n",
    "        \"description\": \"Extract key details from a credit rating report PDF\",\n",
    "        \"input_schema\": {\n",
    "            \"type\": \"object\",\n",
    "            \"properties\": {\n",
    "                \"credit_ratings\": {\n",
    "                \"type\": \"array\",\n",
    "                \"items\": {\n",
    "                    \"type\": \"object\",\n",
    "                    \"properties\": {\n",
    "                        \"instrument\": {\"type\": \"string\", \"description\": \"Name of the financial instrument\"},\n",
    "                        \"rating\": {\"type\": \"string\", \"description\": \"The credit rating assigned\"},\n",
    "                        \"page_numbers\": {\n",
    "                            \"type\": \"array\",\n",
    "                            \"items\": {\"type\": \"integer\"},\n",
    "                            \"description\": \"Page numbers where this data is found\"\n",
    "                        }\n",
    "                    },\n",
    "                },\n",
    "                \"description\": \"List of credit ratings for different financial instruments.\"\n",
    "            },\n",
    "            \"net_worth\": {\n",
    "                \"type\": \"object\",\n",
    "                \"properties\": {\n",
    "                    \"company_net_worth\": {\"type\": \"string\", \"description\": \"Net worth of the company\"},\n",
    "                    \"page_numbers\": {\n",
    "                        \"type\": \"array\",\n",
    "                        \"items\": {\"type\": \"integer\"},\n",
    "                        \"description\": \"Page numbers where net worth information is found\"\n",
    "                    }\n",
    "                },\n",
    "                \"description\": \"Net worth of the company and its page numbers.\"\n",
    "            },\n",
    "            \"company_info\": {\n",
    "                \"type\": \"object\",\n",
    "                \"properties\": {\n",
    "                    \"about_company\": {\"type\": \"string\", \"description\": \"General information about the company\"},\n",
    "                    \"page_numbers\": {\n",
    "                        \"type\": \"array\",\n",
    "                        \"items\": {\"type\": \"integer\"},\n",
    "                        \"description\": \"Page numbers where company information is found\"\n",
    "                    }\n",
    "                },\n",
    "                \"description\": \"General information about the company and its page numbers.\"\n",
    "            },\n",
    "        \n",
    "                \"PAT\": {\n",
    "                    \"type\": \"object\",\n",
    "                    \"description\": \"Profit After Tax (PAT) details of company\",\n",
    "                    \"properties\": {\n",
    "                        \"most_recent\": {\"type\": \"string\", \"description\": \"Most recent or latest year's PAT along with year\"},\n",
    "                        \"most_recent_year\" :{ \"type\": \"integer\", \"description\": \"Most recent year\"},\n",
    "                        \"next_recent\": {\"type\": \"string\", \"description\": \"Next recent year's PAT along with year\"},\n",
    "                        \"next_recent_year\" :{ \"type\": \"integer\", \"description\": \"Next recent year after most recent year\"},                   \n",
    "                        \"page_numbers\": {\"type\": \"array\", \"items\": {\"type\": \"integer\"}, \"description\": \"Page numbers where PAT is found\"}\n",
    "                    },\n",
    "                    \"required\": [\"most_recent\", \"next_recent\", \"page_numbers\"]\n",
    "                },\n",
    "                \"operating_income\": {\n",
    "                    \"type\": \"object\",\n",
    "                    \"description\": \"Operating income details\",\n",
    "                    \"properties\": {\n",
    "                        \"most_recent\": {\"type\": \"string\", \"description\": \"Most recent or latest year's operating income along with year\"},\n",
    "                         \"most_recent_year\" :{ \"type\": \"integer\", \"description\": \"Most recent year\"},\n",
    "                        \"next_recent\": {\"type\": \"string\", \"description\": \"Next recent year's operating income along with year\"},\n",
    "                        \"next_recent_year\" :{ \"type\": \"integer\", \"description\": \"Next recent year after most recent year\"},   \n",
    "                        \"page_numbers\": {\"type\": \"array\", \"items\": {\"type\": \"integer\"}, \"description\": \"Page numbers where operating income is found\"}\n",
    "                    },\n",
    "                    \"required\": [\"most_recent\", \"next_recent\", \"page_numbers\"]\n",
    "                },\n",
    "                \"AUM\": {\n",
    "                    \"type\": \"object\",\n",
    "                    \"description\": \"Assets Under Management (AUM) details\",\n",
    "                    \"properties\": {\n",
    "                        \"most_recent\": {\"type\": \"string\", \"description\": \"Most recent  or latest year's AUM along with year\"},\n",
    "                        \"most_recent_year\" :{ \"type\": \"integer\", \"description\": \"Most recent year\"},\n",
    "                        \"next_recent\": {\"type\": \"string\", \"description\": \"Next recent year's AUM along with year\"},\n",
    "                        \"next_recent_year\" :{ \"type\": \"integer\", \"description\": \"Next recent year after most recent year\"},   \n",
    "                        \"page_numbers\": {\"type\": \"array\", \"items\": {\"type\": \"integer\"}, \"description\": \"Page numbers where AUM is found\"}\n",
    "                    },\n",
    "                    \"required\": [\"most_recent\", \"next_recent\", \"page_numbers\"]\n",
    "                }\n",
    "            },\n",
    "            \"required\": [\"financial_instruments\", \"company_net_worth\", \"about_company\", \"PAT\", \"operating_income\", \"AUM\"]\n",
    "},\n",
    "}\n",
    "    \n"
   ]
  },
  {
   "cell_type": "code",
   "execution_count": 52,
   "id": "437bc774-d0d7-4a65-bc61-5a919ca78446",
   "metadata": {},
   "outputs": [],
   "source": [
    "def get_anthropic_reply(image_path, model = \"claude-3-5-sonnet-20241022\"):\n",
    "    \n",
    "    system_prompt = '''\n",
    "    You are a credit rating report analysis assistant. You will be provided with text. You have to return:\n",
    "    1.) Credit Ratings of different financial instruments along with the name of financial instruments\n",
    "    2.) Net worth of company: Net worth of a company refers to the value that remains after subtracting total liabilities from total assets. The net worth is also known as shareholders' equity, book value, or net assets. \n",
    "    3.) About the company: General information about company like what it do and what is its business\n",
    "    4.) Profit After Tax (PAT) of company in most recent/latest year available in text and in year just previous to most recent year. Please provide year too in both cases.\n",
    "    5.) Operating income or  Total operating income of company in most recent/latest year available in text and in year just previous to most recent year. Please provide year too in both cases.\n",
    "    6.) AUM (asset under managemet) or Total AUM  in most recent/latest year available in text and in year just previous to most recent year. Please provide year too in both cases.\n",
    "    \n",
    "    \n",
    "    Along with above data, you also have to return the **page number** where you get the above data.\n",
    "    In case, if you are not able to get any of above information just return **None** in that case.\n",
    "\n",
    "                    \n",
    "    '''\n",
    "    user_prompt = '''\n",
    "    Given is the credit rating report of a company.\n",
    "    I want you to extract following details for me:\n",
    "    1.) Credit Ratings of different financial instruments\n",
    "    2.) Net Worth\n",
    "    3.) Info about company\n",
    "    4.) PAT\n",
    "    5.) Operating income\n",
    "    6.) AUM\n",
    "    You must return each of the above detail from report. In case, if you are not able to find any of them, \n",
    "    then just return 'None' in the front of detail which will indicate that it is not found.\n",
    "    ''' \n",
    "    def encode_pdf(image_path):\n",
    "        with open(image_path, \"rb\") as pdf_file:\n",
    "            pdf_data = base64.standard_b64encode(pdf_file.read()).decode(\"utf-8\")\n",
    "            \n",
    "        return pdf_data\n",
    "\n",
    "    \n",
    "    response = client_claude.beta.messages.create(\n",
    "        model= model,\n",
    "        betas=[\"pdfs-2024-09-25\"],\n",
    "        system = system_prompt,\n",
    "        max_tokens = 700,\n",
    "        messages=[\n",
    "            {\n",
    "                \"role\": \"user\",\n",
    "                \"content\": [\n",
    "                    {\n",
    "                        \"type\": \"document\",\n",
    "                        \"source\": {\n",
    "                            \"type\": \"base64\",\n",
    "                            \"media_type\": \"application/pdf\",\n",
    "                            \"data\": encode_pdf(image_path),\n",
    "                        }\n",
    "                    },\n",
    "                    {\n",
    "                        \"type\": \"text\",\n",
    "                        \"text\": user_prompt\n",
    "                    }\n",
    "                ]\n",
    "            }\n",
    "        ],\n",
    "        tools = [tool_function]\n",
    "    \n",
    "    )\n",
    "\n",
    "    return response"
   ]
  },
  {
   "cell_type": "code",
   "execution_count": 53,
   "id": "9c760648-45cc-4294-8cac-1bb5df44eef4",
   "metadata": {},
   "outputs": [],
   "source": [
    "def create_dataframe(data):\n",
    "\n",
    "    try:\n",
    "        \n",
    "        keys =  data.keys()\n",
    "        result_df = []\n",
    "        for key in keys:\n",
    "            temp_df = pd.DataFrame(data[key])\n",
    "            # temp_df['page_numbers'] = temp_df['page_numbers'].apply(lambda x: ', '.join(map(str,x)))\n",
    "            temp_df.rename(columns={\"page_numbers\": f\"{key} Page No.\"}, inplace=True)\n",
    "            if key in ['PAT','AUM','operating_income']:\n",
    "                temp_df.rename(columns = {\"most_recent\": f\"{key}(latest yr)\"}, inplace =True)\n",
    "                temp_df.rename(columns = {\"next_recent\": f\"{key}\"}, inplace =True)\n",
    "            result_df.append(temp_df)\n",
    "            \n",
    "        final_df = pd.concat(result_df,axis=1)\n",
    "\n",
    "        return final_df\n",
    "\n",
    "    except Exception as e:\n",
    "        print(f\"Error occured in creating a final dataframe: {e}\")\n",
    "        return f\"Error occured in creating a final dataframe: {e}\"\n"
   ]
  },
  {
   "cell_type": "markdown",
   "id": "150b8b46-f01b-4d9f-8076-61bd86fd12ec",
   "metadata": {
    "jp-MarkdownHeadingCollapsed": true
   },
   "source": [
    "## Check Final Wala  (With PDF as input)"
   ]
  },
  {
   "cell_type": "code",
   "execution_count": null,
   "id": "224a2354-3bb6-4d28-86d4-792c59a8b129",
   "metadata": {},
   "outputs": [],
   "source": [
    "company_name = input(\"Enter Company Name: \")\n",
    "data= fetch_latest_credit_rating(company_name, api_key)\n",
    "print(\"Information is Fetched from Google Successfully\")\n",
    "reply = get_gpt_reply(company_name,data)\n",
    "print(\"Response is taken from GPT Successfully\")\n",
    "print(reply)\n",
    "url = reply['url']\n",
    "download_pdf(url)\n",
    "\n",
    "filename = f\"{company_name}_CR.pdf\"  # Replace with your PDF file path\n",
    "flag,extracted_text = extract_text_with_pdfplumber(filename)\n",
    "\n",
    "if (flag):\n",
    "    make_tables(filename)\n",
    "    token_count = calculate_tokens(extracted_text)\n",
    "    print(f\"Token count for the input text: {token_count}\")\n",
    "    if (token_count>15000):\n",
    "        print(\"Token Count hit the limit, so stopping the code\")\n",
    "    else:\n",
    "        extracted_info  = get_anthropic_reply(filename)\n",
    "        print(\"Required Information is extracted fom pdf\")\n",
    "        results =  create_dataframe(extracted_info)\n",
    "        display(results)"
   ]
  },
  {
   "cell_type": "code",
   "execution_count": null,
   "id": "cbaf18db-f739-4a17-98d4-b86a4eabb4b8",
   "metadata": {},
   "outputs": [],
   "source": []
  },
  {
   "cell_type": "markdown",
   "id": "26f9fa81-361c-4c7d-98c5-14985b762c59",
   "metadata": {
    "jp-MarkdownHeadingCollapsed": true
   },
   "source": [
    "## Gradio"
   ]
  },
  {
   "cell_type": "code",
   "execution_count": 54,
   "id": "fcab53ef-a043-4dfd-9b0c-0df9231e47e4",
   "metadata": {},
   "outputs": [
    {
     "name": "stdout",
     "output_type": "stream",
     "text": [
      "* Running on local URL:  http://127.0.0.1:7860\n",
      "* Running on public URL: https://1033c9cdb03fa59721.gradio.live\n",
      "\n",
      "This share link expires in 72 hours. For free permanent hosting and GPU upgrades, run `gradio deploy` from the terminal in the working directory to deploy to Hugging Face Spaces (https://huggingface.co/spaces)\n"
     ]
    },
    {
     "data": {
      "text/html": [
       "<div><iframe src=\"https://1033c9cdb03fa59721.gradio.live\" width=\"100%\" height=\"500\" allow=\"autoplay; camera; microphone; clipboard-read; clipboard-write;\" frameborder=\"0\" allowfullscreen></iframe></div>"
      ],
      "text/plain": [
       "<IPython.core.display.HTML object>"
      ]
     },
     "metadata": {},
     "output_type": "display_data"
    },
    {
     "data": {
      "text/plain": []
     },
     "execution_count": 54,
     "metadata": {},
     "output_type": "execute_result"
    }
   ],
   "source": [
    "import gradio as gr\n",
    "import pandas as pd\n",
    "import time\n",
    "import base64\n",
    "\n",
    "def process_company(company_name):\n",
    "\n",
    "    data= fetch_latest_credit_rating(company_name, api_key)\n",
    "    yield \"Information is Fetched from Google Successfully\"\n",
    "    \n",
    "    reply = get_gpt_reply(company_name,data)\n",
    "    yield \"Response is taken from GPT Successfully\"\n",
    "    yield json.dumps(reply)\n",
    "    \n",
    "    url = reply['url']\n",
    "    response = download_pdf(url,company_name)\n",
    "    yield response\n",
    "    \n",
    "    filename = f\"{company_name}_CR.pdf\"  # Replace with your PDF file path\n",
    "    flag,extracted_text = extract_text_with_pdfplumber(filename)\n",
    "    if( flag==0):\n",
    "        yield extracted_text\n",
    "\n",
    "    results = pd.DataFrame()\n",
    "    if (flag):\n",
    "        # make_tables(filename)\n",
    "        token_count = calculate_tokens(extracted_text)\n",
    "        yield f\"Token count for the input text: {token_count}\"\n",
    "        if (token_count>15000):\n",
    "            yield \"Token Count hit the limit, so stopping the code\"\n",
    "        else:\n",
    "            extracted_info  = get_anthropic_reply(filename)\n",
    "            extracted_info = extracted_info.content[1].input\n",
    "            yield \"Required Information is extracted fom pdf\"\n",
    "            results =  create_dataframe(extracted_info)\n",
    "\n",
    "    yield \"Execution Completed!!\", results\n",
    "    \n",
    "\n",
    "def run_analysis(company_name, password):\n",
    "    if password != \"my\":  # Password check\n",
    "        yield gr.update(value=\"Invalid password! Please try again.\"), None\n",
    "        return\n",
    "\n",
    "    progress = []\n",
    "    yield gr.update(value=\"Starting analysis...\\n\"), None\n",
    "\n",
    "    # Process company name and yield intermediate updates\n",
    "    for update in process_company(company_name):\n",
    "        if isinstance(update, str):  # If it's a log message\n",
    "            progress.append(update)\n",
    "            yield gr.update(value=\"\\n\".join(progress)), None  # Update log\n",
    "        else:  # If it's the final DataFrame\n",
    "            message, df = update\n",
    "            progress.append(message)\n",
    "            yield gr.update(value=\"\\n\".join(progress)), df  # Update log and DataFrame\n",
    "\n",
    "# Gradio Interface\n",
    "with gr.Blocks() as demo:\n",
    "    gr.Markdown(\"<h1 style='text-align: center; color: white;'>Credit Reporting Analysis Tool</h1>\")\n",
    "    gr.Markdown(\"<p style='text-align: center; color: white;'>Enter the company name to start the analysis.</p>\")\n",
    "    \n",
    "    with gr.Row():\n",
    "        company_name_input = gr.Textbox(label=\"Company Name\", placeholder=\"Enter company name here\")\n",
    "        password_input = gr.Textbox(label=\"Password\", type=\"password\", placeholder=\"Enter password here\")\n",
    "    \n",
    "    log_output = gr.Textbox(label=\"Progress Log\", lines=10, interactive=False)\n",
    "    dataframe_output = gr.Dataframe(label=\"Final Output\")\n",
    "    \n",
    "    analyze_button = gr.Button(\"Run Analysis\")\n",
    "    analyze_button.click(run_analysis, inputs=[company_name_input, password_input], outputs=[log_output, dataframe_output])\n",
    "\n",
    "demo.launch(share=True)\n"
   ]
  },
  {
   "cell_type": "code",
   "execution_count": null,
   "id": "695377e6-b53f-4c21-bf1f-a26c734fd190",
   "metadata": {},
   "outputs": [],
   "source": []
  }
 ],
 "metadata": {
  "kernelspec": {
   "display_name": "Python 3 (ipykernel)",
   "language": "python",
   "name": "python3"
  },
  "language_info": {
   "codemirror_mode": {
    "name": "ipython",
    "version": 3
   },
   "file_extension": ".py",
   "mimetype": "text/x-python",
   "name": "python",
   "nbconvert_exporter": "python",
   "pygments_lexer": "ipython3",
   "version": "3.12.0"
  }
 },
 "nbformat": 4,
 "nbformat_minor": 5
}
